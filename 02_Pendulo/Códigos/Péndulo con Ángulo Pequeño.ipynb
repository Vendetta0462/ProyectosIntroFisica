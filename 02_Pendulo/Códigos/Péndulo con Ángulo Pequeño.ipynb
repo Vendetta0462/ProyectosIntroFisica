{
 "cells": [
  {
   "cell_type": "markdown",
   "id": "5bf7df4a",
   "metadata": {},
   "source": [
    "# Movimiento del péndulo con ángulos pequeños\n",
    "Los ángulos pequeños que usaremos para este movimiento se calcularon en el archivo \"Ángulos Pequeños.ipynb\", en este mismo directorio."
   ]
  },
  {
   "cell_type": "code",
   "execution_count": 6,
   "id": "6fbb2402",
   "metadata": {},
   "outputs": [],
   "source": [
    "#Importamos las librerías necesarias\n",
    "import numpy as np\n",
    "import matplotlib.pyplot as plt\n",
    "import astropy.units as u\n",
    "import pandas as pd"
   ]
  },
  {
   "cell_type": "markdown",
   "id": "1f91c17b",
   "metadata": {},
   "source": [
    "## Simulación Teórica"
   ]
  },
  {
   "cell_type": "code",
   "execution_count": 10,
   "id": "23696678",
   "metadata": {},
   "outputs": [
    {
     "data": {
      "text/latex": [
       "$9.8 \\; \\mathrm{\\frac{m}{s^{2}}}$"
      ],
      "text/plain": [
       "<Quantity 9.8 m / s2>"
      ]
     },
     "execution_count": 10,
     "metadata": {},
     "output_type": "execute_result"
    }
   ],
   "source": [
    "#Ingresamos los parámetros iniciales para la simulación\n",
    "l = 2*u.m       #Longitud de la cuerda\n",
    "th = 5              #Ángulo inicial del movimiento\n",
    "g = 9.8*u.m/u.s**2\n"
   ]
  }
 ],
 "metadata": {
  "kernelspec": {
   "display_name": "Python 3",
   "language": "python",
   "name": "python3"
  },
  "language_info": {
   "codemirror_mode": {
    "name": "ipython",
    "version": 3
   },
   "file_extension": ".py",
   "mimetype": "text/x-python",
   "name": "python",
   "nbconvert_exporter": "python",
   "pygments_lexer": "ipython3",
   "version": "3.8.11"
  }
 },
 "nbformat": 4,
 "nbformat_minor": 5
}
