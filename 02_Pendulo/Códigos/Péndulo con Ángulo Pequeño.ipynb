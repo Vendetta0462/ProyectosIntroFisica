{
 "cells": [
  {
   "cell_type": "markdown",
   "id": "3e973253",
   "metadata": {},
   "source": [
    "# Movimiento del péndulo con ángulos pequeños\n",
    "Los ángulos pequeños que usaremos para este movimiento se calcularon en el archivo \"Ángulos Pequeños.ipynb\", en este mismo directorio."
   ]
  },
  {
   "cell_type": "code",
   "execution_count": 6,
   "id": "d42fd753",
   "metadata": {},
   "outputs": [],
   "source": [
    "#Importamos las librerías necesarias\n",
    "import numpy as np\n",
    "import matplotlib.pyplot as plt\n",
    "import astropy.units as u\n",
    "import pandas as pd"
   ]
  },
  {
   "cell_type": "markdown",
   "id": "83c71f53",
   "metadata": {},
   "source": [
    "## Simulación Teórica"
   ]
  },
  {
   "cell_type": "code",
   "execution_count": 10,
   "id": "46a3ee8f",
   "metadata": {},
   "outputs": [],
   "source": [
    "#Ingresamos los parámetros iniciales para la simulación\n",
    "l = 1*u.m           #Longitud de la cuerda\n",
    "th = 10             #Ángulo inicial del movimiento\n",
    "g = 9.8*u.m/u.s**2  #Aceleración de la gravedad\n",
    "m = 600*u.g         #Masa del cuerpo oscilador"
   ]
  },
  {
   "cell_type": "code",
   "execution_count": 17,
   "id": "08859b3d",
   "metadata": {},
   "outputs": [
    {
     "data": {
      "text/latex": [
       "$3.1304952 \\; \\mathrm{\\frac{1}{s}}$"
      ],
      "text/plain": [
       "<Quantity 3.13049517 1 / s>"
      ]
     },
     "execution_count": 17,
     "metadata": {},
     "output_type": "execute_result"
    }
   ],
   "source": [
    "#Calculamos el periodo, teniendo encuenta que estamos en una aproximación\n",
    "T = 2*np.pi*np.sqrt(l/g)\n",
    "\n",
    "#Luego, la velocidad angular\n",
    "w = np.sqrt(g/l)\n",
    "w"
   ]
  },
  {
   "cell_type": "code",
   "execution_count": null,
   "id": "a2f2968f",
   "metadata": {},
   "outputs": [],
   "source": [
    "#Generamos valores de tiempo entre 0 y el periodo del movimiento\n",
    "t = np.linspace(0,T.value, 100)\n",
    "\n",
    "#Ahora, la función que nos devulve los ángulos en función del tiempo\n",
    "# def thet(init, T, t):\n",
    "#     an = init*np.cos(((2*np.pi)/T)*t+)"
   ]
  },
  {
   "cell_type": "code",
   "execution_count": 9,
   "id": "412b5277",
   "metadata": {},
   "outputs": [],
   "source": [
    "#Aceleración en función del periodo\n",
    "g_x = (4*np.pi**2*l)/T**2"
   ]
  }
 ],
 "metadata": {
  "interpreter": {
   "hash": "cb4ba80c77914fefcae4b6ab97441bcca38110318b73796501620219806422b4"
  },
  "kernelspec": {
   "display_name": "Python 3",
   "language": "python",
   "name": "python3"
  },
  "language_info": {
   "codemirror_mode": {
    "name": "ipython",
    "version": 3
   },
   "file_extension": ".py",
   "mimetype": "text/x-python",
   "name": "python",
   "nbconvert_exporter": "python",
   "pygments_lexer": "ipython3",
   "version": "3.8.8"
  }
 },
 "nbformat": 4,
 "nbformat_minor": 5
}
