{
 "cells": [
  {
   "cell_type": "markdown",
   "id": "3e973253",
   "metadata": {},
   "source": [
    "# 1. Movimiento del péndulo con ángulos grandes\n",
    "Los ángulos grandes que usaremos para este movimiento están fuera del rango de ángulos pequeños utilizados para la simulación teórica de \"Péndulo con Ángulo Pequeño.ipynb\"."
   ]
  },
  {
   "cell_type": "code",
   "execution_count": null,
   "id": "49dc7c08-4fbd-45d7-9a5e-6d6a3c6624b2",
   "metadata": {},
   "outputs": [],
   "source": [
    "#Importamos las librerías necesarias\n",
    "import numpy as np\n",
    "import matplotlib.pyplot as plt\n",
    "import astropy.units as u\n",
    "import pandas as pd\n",
    "from analisis import anDatExp"
   ]
  },
  {
   "cell_type": "markdown",
   "id": "ad740ff9-0d75-45ec-bc41-beefe73618ca",
   "metadata": {
    "jp-MarkdownHeadingCollapsed": true,
    "tags": []
   },
   "source": [
    "## 1.1. Análisis de los Datos Experimentales"
   ]
  },
  {
   "cell_type": "markdown",
   "id": "f96266ea-81e1-482d-bdfe-034b8bec48ca",
   "metadata": {},
   "source": [
    "Análisis de los datos experimentales para los ***8 casos diferentes*** en los que varían:\n",
    "- El ángulo inicial: 61.5°, 73° (Los valores varían entre sets de datos)\n",
    "- La longitud de la cuerda: 1m, 2m\n",
    "- La masa de la botella: 300g, 600g"
   ]
  },
  {
   "cell_type": "code",
   "execution_count": null,
   "id": "7cc520e3-023b-4be9-80c2-4ca822f88735",
   "metadata": {},
   "outputs": [],
   "source": [
    "d61_5grad1m300ml = anDatExp(\"../Datos/Cuerda 1m/61,5grad_1m300ml/\",\"_61.5grad1m300ml.csv\", ((2.2,2.5),(4.5,4.8)))\n",
    "\n",
    "d61_5grad1m600ml = anDatExp(\"../Datos/Cuerda 1m/61,5grad_1m600ml/\",\"_61.5grad1m600ml.csv\", ((4.7,5),(7,7.1)))\n",
    "\n",
    "d73grad1m300ml = anDatExp(\"../Datos/Cuerda 1m/73grad_1m300ml/\",\"_73grad1m300ml.csv\", ((4.8,5),(7,8)))\n",
    "\n",
    "d73grad1m600ml = anDatExp(\"../Datos/Cuerda 1m/73grad_1m600ml/\",\"_73grad1m600ml.csv\", ((2.2,2.6),(4,5)))\n",
    "\n",
    "d61_5grad2m300ml = anDatExp(\"../Datos/Cuerda 2m/61.5grad2m300ml/\",\"_61.5grad2m300ml.csv\", ((0,0.5),(2.3,2.6)),sets=5)\n",
    "\n",
    "d61_5grad2m600ml = anDatExp(\"../Datos/Cuerda 2m/61.5grad2m600ml/\",\"_61.5grad2m600ml.csv\", ((0,0.5),(2.5,2.8)),sets=5)\n",
    "\n",
    "d73grad2m300ml = anDatExp(\"../Datos/Cuerda 2m/73grad_2m300ml/\",\"_73grad2m300ml.csv\", ((2.5,2.8),(5,5.5)),sets=5)\n",
    "\n",
    "d73grad2m600ml = anDatExp(\"../Datos/Cuerda 2m/73grad_2m600ml/\",\"_73grad2m600ml.csv\", ((2.5,2.8),(5,5.5)), sets=5)"
   ]
  },
  {
   "cell_type": "markdown",
   "id": "1f94f254-c6b2-401b-ae77-20b199615f6e",
   "metadata": {},
   "source": [
    "Finalmente hacemos un promedio de las gravedades para ingresarla como parámetro en la simulación y los periodos para compararlos con las simulaciones."
   ]
  },
  {
   "cell_type": "code",
   "execution_count": null,
   "id": "3516a189-3961-4614-bf95-e478eda5557a",
   "metadata": {},
   "outputs": [],
   "source": [
    "g = np.array([d61_5grad1m300ml.g.values[0], d61_5grad1m600ml.g.values[0], d73grad1m300ml.g.values[0],\n",
    "              d73grad1m600ml.g.values[0], d61_5grad2m300ml.g.values[0], d61_5grad2m600ml.g.values[0],\n",
    "              d73grad2m300ml.g.values[0], d73grad2m600ml.g.values[0]]).mean()\n",
    "\n",
    "T1_61 = np.array([d61_5grad1m300ml.Per.values[0], d61_5grad1m600ml.Per.values[0]]).mean()\n",
    "T1_73 = np.array([d73grad1m300ml.Per.values[0], d73grad1m600ml.Per.values[0]]).mean()\n",
    "T2_61 = np.array([d61_5grad2m300ml.Per.values[0], d61_5grad2m600ml.Per.values[0]]).mean()\n",
    "T2_73 = np.array([d73grad2m300ml.Per.values[0], d73grad2m600ml.Per.values[0]]).mean()\n",
    "\n",
    "print(\"El promedio de la aceleración de gravedad en los datos experimentales es de: g=\",\n",
    "      round(g, ndigits=2)*u.m/u.s**2, sep=\"\")\n",
    "print(\"El primedio de los periodos T es de: \\n\",\n",
    "      \" 1m-61.5grad=\", round(T1_61, ndigits=1)*u.s, \"\\n\",\n",
    "      \" 1m-73grad=\", round(T1_73, ndigits=1)*u.s, \"\\n\",\n",
    "      \" 2m-61.5grad=\", round(T2_61, ndigits=1)*u.s, \"\\n\",\n",
    "      \" 2m-73grad=\", round(T2_73, ndigits=1)*u.s, \"\\n\", sep=\"\")"
   ]
  },
  {
   "cell_type": "markdown",
   "id": "c6b2f6a3-4e51-4b78-b2b9-1c9c1c198ad9",
   "metadata": {
    "jp-MarkdownHeadingCollapsed": true,
    "tags": []
   },
   "source": [
    "## 1.2. Simulación Teórica"
   ]
  },
  {
   "cell_type": "markdown",
   "id": "1f3ce621-8256-4f9c-a335-ac50bf24422f",
   "metadata": {
    "tags": []
   },
   "source": [
    "### 1.2.1 Definición de la función (para cualquier ángulo inicial)"
   ]
  },
  {
   "cell_type": "code",
   "execution_count": null,
   "id": "c1a86983-e226-436d-aaa9-8a3ca3350dd4",
   "metadata": {},
   "outputs": [],
   "source": [
    "def simTeoGra (lon, ang, T, gra=9.8, per=1):\n",
    "    \n",
    "    \"\"\"\n",
    "    Esta función genera una simulación teórica del movimiento de un\n",
    "    pendulo ingresandole algunos parámetros iniciales. El único valor\n",
    "    que requiere de unidades es el ángulo inicial (ang).\n",
    "    \n",
    "    Params:\n",
    "    lon:\n",
    "        Entero. Longitud de la cuerda.\n",
    "    ang:\n",
    "        Flotante. Ángulo inicial del movimiento. Debe estar en unidades\n",
    "        angulares.\n",
    "    T:\n",
    "        Flotante. Es el valor del periodo extraido de los datos del\n",
    "        movimiento experimental.\n",
    "    gra:\n",
    "        Flotante. Aceleración de gravedad. Por defecto se usa 9.8,\n",
    "        pues es el estándar para la tierra.\n",
    "    per:\n",
    "        Entero. Los ciclos o \"vueltas\" que se quiere simular. Cabe resaltar\n",
    "        que los datos varían significativamente entre ciclos, además, como\n",
    "        el periodo lo extraemos de los datos, puede que este no sea el\n",
    "        valor real del periodo teórico, por ende puede que lo que se\n",
    "        muestre no sea exactamente \"per\" periodos. Por defecto: 1.\n",
    "    \n",
    "    Returns:\n",
    "    datos:\n",
    "        El DataFrame con los valores de tiempo, ángulo, velocidad y\n",
    "        aceleración en cada instante de tiempo.\n",
    "    Además, se imprime el valor de la amplitud y se muestran las gráficas de\n",
    "    posición angular, velocidad angular y aceleración angular en función del \n",
    "    tiempo.\n",
    "    \"\"\"\n",
    "    \n",
    "    print(\"-\"*18, \"Péndulo con \"+str(ang.value)+\"° - \"+str(lon)+\"m \"+\"-\"*18)\n",
    "    #Parámetros iniciales\n",
    "    w = 0\n",
    "    theta = ang.to(\"rad\").value\n",
    "    print(\"La amplitud del movimiento es de:\", np.round(theta, decimals=3)*u.rad)\n",
    "    a = (-gra*np.sin(theta)/lon)\n",
    "    \n",
    "    #El cambio del tiempo\n",
    "    dt = 0.01\n",
    "    t = np.arange(0, (T*per), dt)\n",
    "    \n",
    "    #El DF donde se alojarán los datos\n",
    "    datos = pd.DataFrame(np.array([t[0], theta, w, a]).reshape(1,4), columns=[\"t\", \"theta\", \"w\", \"a\"])\n",
    "    \n",
    "    #Hacemos un ciclo para cada instante de tiempo usando las fórmulas dadas en el documento y alojamos\n",
    "    #esos datos en una DF fila para ingresar esos valores en el DF datos\n",
    "    for i in t[1:]:\n",
    "        theta_ = theta+(w*dt)+(a*((dt**2)/2))\n",
    "        w_ = w+(a*dt)\n",
    "        a_ = (-gra*np.sin(theta_)/lon)\n",
    "        fila = pd.DataFrame(np.array([i, theta_, w_, a_]).reshape(1,4), columns=[\"t\", \"theta\", \"w\", \"a\"])\n",
    "        datos = datos.append(fila, ignore_index=True)\n",
    "        theta = theta_\n",
    "        w = w_\n",
    "        a = a_\n",
    "    \n",
    "    #Iniciamos la generación de los gráficos\n",
    "    #Primero la posición angular\n",
    "    plt.plot(t, datos.theta, color=\"purple\")\n",
    "    plt.xlabel(r\"$Tiempo(s)$\", size=13)\n",
    "    plt.ylabel(r\"$\\theta(rad)$\", size=13)\n",
    "    plt.axhline(0, color=\"k\", alpha=0.5)\n",
    "    plt.xlim([0,t[-1]])\n",
    "    plt.title(\"Posición angular respecto al tiempo (\"+str(ang.value)+\"° - \"+str(lon)+\"m)\", size=14, fontstyle=\"oblique\")\n",
    "    plt.grid(alpha=0.5)\n",
    "    plt.show()\n",
    "    \n",
    "    #Ahora velocidad angular\n",
    "    plt.plot(t, datos.w, color=\"purple\")\n",
    "    plt.xlabel(r\"$Tiempo(s)$\", size=13)\n",
    "    plt.ylabel(r\"$\\omega(\\frac{rad}{s})$\", size=13)\n",
    "    plt.axhline(0, color=\"k\", alpha=0.5)\n",
    "    plt.xlim([0,t[-1]])\n",
    "    plt.title(\"Velocidad angular respecto al tiempo (\"+str(ang.value)+\"° - \"+str(lon)+\"m)\", size=14, fontstyle=\"oblique\")\n",
    "    plt.grid(alpha=0.5)\n",
    "    plt.show()\n",
    "    \n",
    "    #Por último, aceleración angular\n",
    "    plt.plot(t, datos.a, color=\"purple\")\n",
    "    plt.xlabel(r\"$Tiempo(s)$\", size=13)\n",
    "    plt.ylabel(r\"$\\alpha(\\frac{rad}{s^2})$\", size=13)\n",
    "    plt.axhline(0, color=\"k\", alpha=0.5)\n",
    "    plt.xlim([0,t[-1]])\n",
    "    plt.title(\"Aceleración angular respecto al tiempo (\"+str(ang.value)+\"° - \"+str(lon)+\"m)\", size=14, fontstyle=\"oblique\")\n",
    "    plt.grid(alpha=0.5)\n",
    "    plt.show()\n",
    "    \n",
    "    #Regrasamos el DF con todos los datos\n",
    "    return datos"
   ]
  },
  {
   "cell_type": "markdown",
   "id": "c72fe3f5-1769-4dcd-b027-a55caa584e78",
   "metadata": {
    "tags": []
   },
   "source": [
    "### 1.2.2. Simulación teórica utilizando los valores extraidos de los datos"
   ]
  },
  {
   "cell_type": "markdown",
   "id": "9c22b7ea-289d-42b9-b188-debce8431a60",
   "metadata": {},
   "source": [
    "La simulación teórica con la aceleración de gravedad hallada en el análisis de los datos. Se simula para los ***4 casos diferentes*** en los que varían:\n",
    "- El ángulo inicial: 61.5°, 73° (Los valores varían entre sets de datos)\n",
    "- La longitud de la cuerda: 1m, 2m  \n",
    "\n",
    "Se omite la masa (a diferencia de en el análisis de datos), ya que teóricamente no inflye en el movimiento"
   ]
  },
  {
   "cell_type": "code",
   "execution_count": null,
   "id": "01a97e76-978d-414d-8b5f-06cd99f376ba",
   "metadata": {},
   "outputs": [],
   "source": [
    "s61_5grad1m = simTeoGra(1, 61.5*u.deg, T1_61, g)\n",
    "\n",
    "s73grad1m = simTeoGra(1, 73*u.deg, T1_73, g)\n",
    "\n",
    "s61_5grad2m = simTeoGra(2, 61.5*u.deg, T2_61, g)\n",
    "\n",
    "s73grad2m = simTeoGra(2, 73*u.deg, T2_73, g)"
   ]
  }
 ],
 "metadata": {
  "kernelspec": {
   "display_name": "Python 3 (ipykernel)",
   "language": "python",
   "name": "python3"
  },
  "language_info": {
   "codemirror_mode": {
    "name": "ipython",
    "version": 3
   },
   "file_extension": ".py",
   "mimetype": "text/x-python",
   "name": "python",
   "nbconvert_exporter": "python",
   "pygments_lexer": "ipython3",
   "version": "3.8.11"
  },
  "toc-autonumbering": false
 },
 "nbformat": 4,
 "nbformat_minor": 5
}
