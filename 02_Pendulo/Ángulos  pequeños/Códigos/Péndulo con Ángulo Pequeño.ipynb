{
 "cells": [
  {
   "cell_type": "markdown",
   "id": "3e973253",
   "metadata": {
    "tags": []
   },
   "source": [
    "# 1. Movimiento del péndulo con ángulos pequeños\n",
    "Los ángulos pequeños que usaremos para este movimiento se calcularon en el archivo \"Ángulos Pequeños.ipynb\", en este mismo directorio."
   ]
  },
  {
   "cell_type": "code",
   "execution_count": null,
   "id": "d42fd753",
   "metadata": {},
   "outputs": [],
   "source": [
    "#Importamos las librerías necesarias\n",
    "import numpy as np\n",
    "import matplotlib.pyplot as plt\n",
    "import astropy.units as u\n",
    "import pandas as pd\n",
    "\n",
    "#Importamos el rango de valores que consideramos pequeños. Estos valores se calcularon en Ángulos Pequeños.ipynb\n",
    "%store -r theta_peq"
   ]
  },
  {
   "cell_type": "markdown",
   "id": "1bf5e1a9",
   "metadata": {
    "jp-MarkdownHeadingCollapsed": true,
    "tags": []
   },
   "source": [
    "## 1.1. Análisis de los Datos Experimentales"
   ]
  },
  {
   "cell_type": "markdown",
   "id": "f2951abc-715f-4a41-a4a1-92fe8e0f5859",
   "metadata": {
    "jp-MarkdownHeadingCollapsed": true,
    "tags": []
   },
   "source": [
    "### 1.1.1. Definición de la función (para análisis de cualquier set de datos experimentales del proyecto)"
   ]
  },
  {
   "cell_type": "code",
   "execution_count": null,
   "id": "eeb31834",
   "metadata": {},
   "outputs": [],
   "source": [
    "def anDatExp (loc, fmt, cic=None, sets=10):\n",
    "    \n",
    "    \"\"\"\n",
    "    Esta función importa los datos experimentales y los promedia dejando\n",
    "    como cantidad de datos la cantidad del set con menor cantidad de datos.\n",
    "    Además, la función siempre genera una grafica, la cual puede ser los\n",
    "    datos de ángulos promediados con respecto a su tiempo, o, cuando se\n",
    "    especifican los rangos en los que pueden estar los picos del periodo que\n",
    "    se desea, se grafica esos puntos dentro de ese rango de tiempo, además,\n",
    "    se calcula el periodo y la aceleración de gravedad en base a esos puntos\n",
    "    seleccionados.\n",
    "    \n",
    "    Params:\n",
    "    loc:\n",
    "        String. Dirección de los archivos a analizar en base a la posición\n",
    "        del archivo del código.\n",
    "    fmt:\n",
    "        String. Formato que tienen los .csv sobre los cuales se va a realizar\n",
    "        el análisis. Este formato es específico para cada set de datos.\n",
    "    cic:\n",
    "        Tupla o array. Los rangos de tiempo en los cuales están los picos del\n",
    "        ciclo que se desee analizar. Por defecto: None.\n",
    "    sets:\n",
    "        Entero. Cantidad de archivos con datos que se va a analizar. Por \n",
    "        defecto: 10.\n",
    "    \n",
    "    Returns:\n",
    "        datos_master:\n",
    "            DataFrame. Contiene los valores del tiempo, el ángulo y la gravedad\n",
    "            en cada instante de tiempo resultantes del promedio, análisis y\n",
    "            cálculo.\n",
    "    \"\"\"\n",
    "    \n",
    "    #Creamos un DF para alojar los valores de los ángulos de todos los sets de datos\n",
    "    datos_theta = pd.DataFrame()\n",
    "    \n",
    "    #Importamos todos los sets (10) de datos y alojamos los valores de los ángulos en\n",
    "    #el DF creado para ello. Podemos hacer esto debido a que los tiempos de los datos\n",
    "    #(redondeados a 2 decimales) son iguales para todos los datos. Además, el marco\n",
    "    #de referencia de tracker no fue configurado, por tanto los angulos salen negativos\n",
    "    #y con un desfase de 90 grados, así que revertimos esto al importarlos.\n",
    "    for i in range(1,sets+1):\n",
    "        globals()[\"datos_\" + str(i)] = pd.read_csv(loc+str(i)+fmt,\n",
    "                                      skiprows=2,\n",
    "                                      index_col=False,\n",
    "                                      sep=\".\",\n",
    "                                      names=(\"t\",\"theta\"),\n",
    "                                      converters={\"theta\" : lambda x: ((float(x[0:-1].replace(',','.')))+90)*-1,\n",
    "                                                  \"t\" : lambda y: (round(float(y.replace(\",\",\".\")), ndigits = 2))}\n",
    "                                      )\n",
    "        datos_theta[\"theta_\" + str(i)] = globals()[\"datos_\" + str(i)].theta\n",
    "        \n",
    "    #Hacemos el promedio horizontal de los datos, para tener un promedio en cada\n",
    "    #instante de tiempo. Este promedio tiene el mismo número de datos ya que al\n",
    "    #agragar los valores de los ángulos en el paso anterior, se hace con el\n",
    "    #número de datos mínimo de todos los sets de datos. Luego alojamos todo en\n",
    "    #un DF datos_master\n",
    "    datos_theta_prom = datos_theta.mean(axis=1)\n",
    "    datos_master = pd.DataFrame()\n",
    "    datos_master[\"theta\"] = round(datos_theta_prom, ndigits=2)\n",
    "    datos_master[\"t\"] = datos_1.t\n",
    "\n",
    "    #Graficamos los ángulos promediados respecto al tiempo de los datos experimentales\n",
    "    #completos si no se seccionó el ciclo.\n",
    "    if cic == None:\n",
    "        plt.figure()\n",
    "        plt.plot(datos_master.t, datos_master.theta, color=\"green\")\n",
    "        plt.axhline(0, color=\"k\", alpha=0.5)\n",
    "        plt.xlabel(r\"$Tiempo(s)$\", size=13)\n",
    "        plt.ylabel(r\"$\\theta(deg)$\", size=13)\n",
    "        plt.xlim([0,datos_master.t.values[-1]])\n",
    "        plt.title(\"Posición angular respecto al tiempo (\"+fmt[1:-4]+\")\", size=14, fontstyle=\"oblique\")\n",
    "        plt.grid(alpha=0.5)\n",
    "        plt.show()\n",
    "        \n",
    "        #Retornamos los valores promediados\n",
    "        return datos_master\n",
    "    \n",
    "    #Tomaremos un solo ciclo para hallar el valor del periodo (T) del movimiento.\n",
    "    #Como se puede ver en los gráficos, el mejor ciclo para hallar T es el segundo,\n",
    "    #para esto, se ingresa un parámetro en la función que nos indica entre que\n",
    "    #instantes de tiempo se encuentra este ciclo (y sus picos).\n",
    "    else:\n",
    "        print(\"-\"*18, \"Péndulo con \"+fmt[1:-15]+\"° - \"+fmt[-11]+\"m \"+\"-\"*18)\n",
    "        #Reducimos los datos a los intervalos necesarios\n",
    "        datos_cic = datos_master[datos_master.t >= cic[0][0]]\n",
    "        datos_cic = datos_cic[datos_cic.t <= cic[1][1]]\n",
    "        #Encontramos los valores máximos en dichos intervalos\n",
    "        picos = np.array([datos_cic[datos_cic.t <= cic[0][1]].theta.max(), datos_cic[datos_cic.t >= cic[1][0]].theta.max()])\n",
    "        print(\"Los valores tomados como máximos en el ciclo seleccionado son, respectivamente:\", picos)\n",
    "        #Hallamos el tiempo correspondiente a los valores máximos\n",
    "        lim1 = datos_cic.t[datos_cic.t <= cic[0][1]][datos_cic[datos_cic.t <= cic[0][1]].theta == picos[0]].values[0]\n",
    "        lim2 = datos_cic.t[datos_cic.t >= cic[1][0]][datos_cic[datos_cic.t >= cic[1][0]].theta == picos[1]].values[0]\n",
    "        #Hallamos el periodo\n",
    "        T = round(lim2-lim1, ndigits=1)\n",
    "        #Con el periodo y la longitud de la cuerda hallamos la gravedad\n",
    "        g = (4*(np.pi**2)*int(fmt[-11]))/(T**2)\n",
    "        #Ingresamos esos valores al DF\n",
    "        datos_master[\"g\"] = np.ones(datos_master.shape[0])*round(g, ndigits=2)\n",
    "        datos_master[\"Per\"] = np.ones(datos_master.shape[0])*T\n",
    "        print(\"El periodo del movimiento es de T=\",np.round(T*u.s, decimals=2), sep=\"\")\n",
    "        print(\"La gravedad del movimiento es de g=\",np.round(g*u.m/u.s**2, decimals=2), sep=\"\")\n",
    "        #Calculamos la desviación cuadrática media (error experimental)\n",
    "        err = np.sqrt(np.mean(datos_master.theta**2))\n",
    "        datos_master[\"Err\"] = np.ones(datos_master.shape[0])*err\n",
    "        \n",
    "        #Graficamos los ángulos promediados respecto al tiempo de los datos experimentales\n",
    "\t\t#en el intervalo de tiempo escogido para el ciclo.\n",
    "        plt.figure()\n",
    "        plt.plot(datos_cic.t, datos_cic.theta, color=\"green\")\n",
    "        plt.errorbar(datos_cic.t[0::3], datos_cic.theta[0::3], yerr=err, color=\"k\", linewidth=.5, label=\"Error experimental\")\n",
    "        plt.legend(shadow=True, loc=\"upper center\")\n",
    "        plt.axhline(0, color=\"k\", alpha=0.5)\n",
    "        plt.axvline(lim1, color=\"r\", alpha=0.8)\n",
    "        plt.axvline(lim2, color=\"r\", alpha=0.8)\n",
    "        plt.xlabel(r\"$Tiempo(s)$\", size=13)\n",
    "        plt.ylabel(r\"$\\theta(deg)$\", size=13)\n",
    "        plt.xlim([datos_cic.t.values[0],datos_cic.t.values[-1]])\n",
    "        plt.title(\"Posición angular respecto al tiempo (\"+fmt[1:-4]+\")\", size=14, fontstyle=\"oblique\")\n",
    "        plt.grid(alpha=0.5)\n",
    "        plt.show()\n",
    "        \n",
    "        #Retornamos los valores promediados\n",
    "        return datos_master"
   ]
  },
  {
   "cell_type": "markdown",
   "id": "99c81d6b-e293-4fea-a943-8c1a3783229a",
   "metadata": {
    "jp-MarkdownHeadingCollapsed": true,
    "tags": []
   },
   "source": [
    "### 1.1.2. Análisis  de los datos experimentales obtenidos con ***tracker***"
   ]
  },
  {
   "cell_type": "markdown",
   "id": "8c4ab8ca-184d-4635-8bbd-488edad0a532",
   "metadata": {},
   "source": [
    "Análisis de los datos experimentales para los ***8 casos diferentes*** en los que varían:\n",
    "- El ángulo inicial: 3.5°, 11.5° (Los valores varían entre sets de datos)\n",
    "- La longitud de la cuerda: 1m, 2m\n",
    "- La masa de la botella: 300g, 600g"
   ]
  },
  {
   "cell_type": "code",
   "execution_count": null,
   "id": "bfc85501-0101-4d62-aea0-b68aa9850477",
   "metadata": {},
   "outputs": [],
   "source": [
    "d3grad1m300ml = anDatExp(\"../Datos/Cuerda 1m/3grados_1m300ml/\",\"_3grad1m300ml.csv\", ((2.1,2.4),(4.3,4.6)))\n",
    "\n",
    "d3grad1m600ml= anDatExp(\"../Datos/Cuerda 1m/3grados_1m600ml/\",\"_3grad1m600ml.csv\", ((2.1,2.4),(4.3,4.6)))\n",
    "\n",
    "d11_5grad1m300ml = anDatExp(\"../Datos/Cuerda 1m/11,5grados_1m300ml/\",\"_11.5grad1m300ml.csv\", ((2.1,2.4),(4.3,4.6)))\n",
    "\n",
    "d11_5grad1m600ml = anDatExp(\"../Datos/Cuerda 1m/11,5grados_1m600ml/\",\"_11.5grad1m600ml.csv\", ((2.1,2.4),(4.3,4.6)))\n",
    "\n",
    "d3grad2m300ml = anDatExp(\"../Datos/Cuerda 2m/3grad_2m300ml/\",\"_3grad2m300ml.csv\", ((2.5,3),(5.3,5.9)))\n",
    "\n",
    "d3grad2m600ml = anDatExp(\"../Datos/Cuerda 2m/3grad_2m600ml/\",\"_3grad2m600ml.csv\", ((2.5,3),(5.3,5.9)))\n",
    "\n",
    "d11_5grad2m300ml = anDatExp(\"../Datos/Cuerda 2m/11,5grad_2m300ml/\",\"_11.5grad2m300ml.csv\", ((2.5,3),(5.3,5.9)))\n",
    "\n",
    "d11_5grad2m600ml = anDatExp(\"../Datos/Cuerda 2m/11,5grad_2m600ml/\",\"_11.5grad2m600ml.csv\", ((2.5,3),(5.3,5.9)))"
   ]
  },
  {
   "cell_type": "markdown",
   "id": "dc86120e-51ac-4bdf-8d65-8f7d7fa5d632",
   "metadata": {},
   "source": [
    "Finalmente hacemos un promedio de las gravedades para ingresarla como parámetro en la simulación y los periodos para compararlos con las simulaciones."
   ]
  },
  {
   "cell_type": "code",
   "execution_count": null,
   "id": "0b4ea66d-8176-4d22-a20d-a83869722a1b",
   "metadata": {},
   "outputs": [],
   "source": [
    "g = np.array([d3grad1m300ml.g.values[0], d3grad1m600ml.g.values[0], d11_5grad1m300ml.g.values[0],\n",
    "              d11_5grad1m600ml.g.values[0], d3grad2m300ml.g.values[0], d3grad2m600ml.g.values[0],\n",
    "              d11_5grad2m300ml.g.values[0], d11_5grad2m600ml.g.values[0]]).mean()\n",
    "g = g*u.m/u.s**2\n",
    "\n",
    "T1 = np.array([d3grad1m300ml.Per.values[0], d3grad1m600ml.Per.values[0], d11_5grad1m300ml.Per.values[0],\n",
    "               d11_5grad1m600ml.Per.values[0]]).mean()\n",
    "T2 = np.array([d3grad2m300ml.Per.values[0], d3grad2m600ml.Per.values[0], d11_5grad2m300ml.Per.values[0],\n",
    "               d11_5grad2m600ml.Per.values[0]]).mean()\n",
    "\n",
    "print(\"El promedio de la aceleración de gravedad en los datos experimentales es de: g=\",\n",
    "      round(g.value, ndigits=2)*g.unit, sep=\"\")\n",
    "print(\"El promedio de periodo en los datos experimentales con longitud de cuerda de 1m es de: T=\",\n",
    "      round(T1, ndigits=1)*u.s, sep=\"\")\n",
    "print(\"El promedio de periodo en los datos experimentales con longitud de cuerda de 2m es de: T=\",\n",
    "      round(T2, ndigits=1)*u.s, sep=\"\")"
   ]
  },
  {
   "cell_type": "markdown",
   "id": "83c71f53",
   "metadata": {
    "jp-MarkdownHeadingCollapsed": true,
    "tags": []
   },
   "source": [
    "## 1.2. Simulación Teórica"
   ]
  },
  {
   "cell_type": "markdown",
   "id": "0a2a813e-c744-4361-aa48-c8df325d493a",
   "metadata": {
    "tags": []
   },
   "source": [
    "### 1.2.1. Definición de la función (para aproximación con ángulos pequeños)"
   ]
  },
  {
   "cell_type": "code",
   "execution_count": null,
   "id": "19f20987",
   "metadata": {},
   "outputs": [],
   "source": [
    "def simTeoPeq (lon, ang, gra=9.8*u.m/u.s**2, per=1):\n",
    "    \n",
    "    \"\"\"\n",
    "    Esta función genera una simulación teórica del movimiento de un\n",
    "    pendulo ingresandole algunos parámetros iniciales. Analiza si\n",
    "    el ángulo inicial ingresado se encuentra en el rango de ángulos\n",
    "    cuyo sen(ángulo) es aproximado al mismo ángulo. Todos los valores\n",
    "    ingresados (a excepción de per) deben tener sus respectivas unidades\n",
    "    para que no salte un error.\n",
    "    \n",
    "    Params:\n",
    "    lon:\n",
    "        Longitud de la cuerda. Debe estár en unidades de longitud.\n",
    "    ang:\n",
    "        Ángulo inicial del movimiento. Debe estar en unidades angulares.\n",
    "    gra:\n",
    "        Aceleración de gravedad. Debe estar en unidades de aceleración.\n",
    "        Por defecto se usa 9.8m/s^2, pues es el estándar para la tierra.\n",
    "    per:\n",
    "        Los periodos o \"vueltas\" que se quiere simular. Cabe resaltar que\n",
    "        No va a cambiar mucho entre periodos pues estamos despreciando\n",
    "        la fricción con el aire. No debe tener unidades. Por defecto: 1.\n",
    "    \n",
    "    Returns:\n",
    "        No hay returns, se imprimen los valores de periodo y velocidad\n",
    "        angular, así como las gráficas de posición angular, velocidad\n",
    "        angular y aceleración angular en función del tiempo.\n",
    "    \"\"\"\n",
    "    \n",
    "    if theta_peq[0]>ang.to(\"rad\").value or ang.to(\"rad\").value>theta_peq[-1]:\n",
    "        return print(\"El ángulo está fuera del rango de ángulos considerados pequeños: [\",\n",
    "                     theta_peq[0], \",\", theta_peq[-1],\"] rad\", sep = \"\")\n",
    "    \n",
    "    \n",
    "    print(\"-\"*18, \"Péndulo con \"+str(ang.value)+\"° - \"+str(int(lon.value))+\"m \"+\"-\"*18)\n",
    "    #Disponemos el ángulo en radianes\n",
    "    print(\"La amplitud del movimiento es de:\", round(ang.to(\"rad\").value, ndigits=3), u.rad)\n",
    "    \n",
    "    #Calculamos el periodo, teniendo encuenta que estamos en una aproximación para ángulos pequeños\n",
    "    T = (2*np.pi*np.sqrt(lon/gra)).to(\"s\")\n",
    "    print(\"El periodo del movimiento es T =\", round(T.value, ndigits=2)*T.unit)\n",
    "    \n",
    "    #Generamos valores de tiempo entre 0 y el periodo del movimiento\n",
    "    t = np.linspace(0,per*T, 500)\n",
    "\n",
    "    #Luego, la frecuencia angular para ángulos pequeños\n",
    "    w = ((2*np.pi)*u.rad/T)\n",
    "    print(\"La frecuencia angular del movimiento es w =\", round(w.value, ndigits=1)*w.unit)    \n",
    "\n",
    "    #Ahora, los angulos para cada instante t de tiempo\n",
    "    angs = (ang.to(\"rad\")*np.cos(w*t))\n",
    "    \n",
    "    #Hallamos la velocidad angular (la derivada del tiempo)\n",
    "    vel = -(ang.to(\"rad\")*w*np.sin(w*t))\n",
    "    \n",
    "    #La aceleración angular para ángulos pequeños (solo tomamos en cuenta su magnitud)\n",
    "    a = (-(gra/lon)*angs.to(\"rad\"))\n",
    "    \n",
    "    #Iniciamos la generación de los gráficos\n",
    "    #Primero la posición angular\n",
    "    plt.plot(t, angs, color=\"purple\")\n",
    "    plt.xlabel(r\"$Tiempo(s)$\", size=13)\n",
    "    plt.ylabel(r\"$\\theta(rad)$\", size=13)\n",
    "    plt.axhline(0, color=\"k\", alpha=0.5)\n",
    "    plt.xlim([0,t[-1].value])\n",
    "    plt.title(\"Posición angular respecto al tiempo (\"+str(ang.value)+\"° - \"+str(int(lon.value))+\"m)\", size=14, fontstyle=\"oblique\")\n",
    "    plt.grid(alpha=0.5)\n",
    "    plt.show()\n",
    "    \n",
    "    #Ahora velocidad angular\n",
    "    plt.plot(t, vel, color=\"purple\")\n",
    "    plt.xlabel(r\"$Tiempo(s)$\", size=13)\n",
    "    plt.ylabel(r\"$\\dot{\\theta}(\\frac{rad}{s})$\", size=13)\n",
    "    plt.axhline(0, color=\"k\", alpha=0.5)\n",
    "    plt.xlim([0,t[-1].value])\n",
    "    plt.title(\"Velocidad angular respecto al tiempo (\"+str(ang.value)+\"° - \"+str(int(lon.value))+\"m)\", size=14, fontstyle=\"oblique\")\n",
    "    plt.grid(alpha=0.5)\n",
    "    plt.show()\n",
    "    \n",
    "    #Por último, aceleración angular\n",
    "    plt.plot(t, a, color=\"purple\")\n",
    "    plt.xlabel(r\"$Tiempo(s)$\", size=13)\n",
    "    plt.ylabel(r\"$\\ddot{\\theta}(\\frac{rad}{s^2})$\", size=13)\n",
    "    plt.axhline(0, color=\"k\", alpha=0.5)\n",
    "    plt.xlim([0,t[-1].value])\n",
    "    plt.title(\"Aceleración angular respecto al tiempo (\"+str(ang.value)+\"° - \"+str(int(lon.value))+\"m)\", size=14, fontstyle=\"oblique\")\n",
    "    plt.grid(alpha=0.5)\n",
    "    plt.show()"
   ]
  },
  {
   "cell_type": "markdown",
   "id": "fb4cfa4b-b993-44fa-bcaa-f9f2610e365d",
   "metadata": {
    "tags": []
   },
   "source": [
    "### 1.2.2. Simulación con los datos especificados"
   ]
  },
  {
   "cell_type": "markdown",
   "id": "6d0de824-29e9-4304-8333-fa87dca33cf7",
   "metadata": {},
   "source": [
    "La simulación teórica con la aceleración de gravedad hallada en el análisis de los datos. Se simula para los ***4 casos diferentes*** en los que varían:\n",
    "- El ángulo inicial: 3.5°, 11.5° (Los valores varían entre sets de datos)\n",
    "- La longitud de la cuerda: 1m, 2m  \n",
    "\n",
    "Se omite la masa (a diferencia de en el análisis de datos), ya que teóricamente no inflye en el movimiento"
   ]
  },
  {
   "cell_type": "code",
   "execution_count": null,
   "id": "f0c52a53",
   "metadata": {},
   "outputs": [],
   "source": [
    "simTeoPeq(1*u.m, 3.5*u.deg, g)    #3.5 grados, 1 metro\n",
    "simTeoPeq(1*u.m, 11.5*u.deg, g)   #11.5 grados, 1 metro\n",
    "simTeoPeq(2*u.m, 3.5*u.deg, g)    #3.5 grados, 2 metro\n",
    "simTeoPeq(2*u.m, 11.5*u.deg, g)   #11.5 grados, 2 metro"
   ]
  }
 ],
 "metadata": {
  "interpreter": {
   "hash": "cb4ba80c77914fefcae4b6ab97441bcca38110318b73796501620219806422b4"
  },
  "kernelspec": {
   "display_name": "Python 3 (ipykernel)",
   "language": "python",
   "name": "python3"
  },
  "language_info": {
   "codemirror_mode": {
    "name": "ipython",
    "version": 3
   },
   "file_extension": ".py",
   "mimetype": "text/x-python",
   "name": "python",
   "nbconvert_exporter": "python",
   "pygments_lexer": "ipython3",
   "version": "3.8.11"
  },
  "toc-autonumbering": false,
  "toc-showcode": false,
  "toc-showmarkdowntxt": false
 },
 "nbformat": 4,
 "nbformat_minor": 5
}
