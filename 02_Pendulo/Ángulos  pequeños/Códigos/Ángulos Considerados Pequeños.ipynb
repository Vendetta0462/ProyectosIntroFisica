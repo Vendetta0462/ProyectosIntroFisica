{
 "cells": [
  {
   "cell_type": "markdown",
   "metadata": {
    "id": "QNc2-fTKzpxS"
   },
   "source": [
    "# Calcularemos los valores de $\\theta$ para los cuales $sen(\\theta)$ $\\approx \\theta$  \n",
    "Con un error de solo el $3\\%$"
   ]
  },
  {
   "cell_type": "code",
   "execution_count": null,
   "metadata": {
    "colab": {
     "base_uri": "https://localhost:8080/",
     "height": 619
    },
    "executionInfo": {
     "elapsed": 918,
     "status": "ok",
     "timestamp": 1631910728354,
     "user": {
      "displayName": "Nicolas Mantilla",
      "photoUrl": "https://lh3.googleusercontent.com/a-/AOh14GhsDn_d1WTXp81dbeWylRsq7K1Beh5ccj33jnfA4g=s64",
      "userId": "00759138915282597494"
     },
     "user_tz": 300
    },
    "id": "F-uK8r3Qv8pJ",
    "outputId": "2b750d0a-e150-4ab9-c6e3-0f3498becde3"
   },
   "outputs": [],
   "source": [
    "# Importamos las librerias correspondientes\n",
    "import numpy as np\n",
    "import matplotlib.pyplot as plt"
   ]
  },
  {
   "cell_type": "code",
   "execution_count": null,
   "metadata": {
    "colab": {
     "base_uri": "https://localhost:8080/",
     "height": 619
    },
    "executionInfo": {
     "elapsed": 918,
     "status": "ok",
     "timestamp": 1631910728354,
     "user": {
      "displayName": "Nicolas Mantilla",
      "photoUrl": "https://lh3.googleusercontent.com/a-/AOh14GhsDn_d1WTXp81dbeWylRsq7K1Beh5ccj33jnfA4g=s64",
      "userId": "00759138915282597494"
     },
     "user_tz": 300
    },
    "id": "F-uK8r3Qv8pJ",
    "outputId": "2b750d0a-e150-4ab9-c6e3-0f3498becde3"
   },
   "outputs": [],
   "source": [
    "#Creamos los parametros inciales: solo tomaremos valores positivos, y sabemos que sen(0) = 0.\n",
    "theta = 0\n",
    "theta_peq = []\n",
    "\n",
    "#Usamos el 97% del ángulo pues la diferencia del error debe ser de maximo 3%.\n",
    "def porc (t):\n",
    "    return t*0.97"
   ]
  },
  {
   "cell_type": "code",
   "execution_count": null,
   "metadata": {
    "colab": {
     "base_uri": "https://localhost:8080/",
     "height": 619
    },
    "executionInfo": {
     "elapsed": 918,
     "status": "ok",
     "timestamp": 1631910728354,
     "user": {
      "displayName": "Nicolas Mantilla",
      "photoUrl": "https://lh3.googleusercontent.com/a-/AOh14GhsDn_d1WTXp81dbeWylRsq7K1Beh5ccj33jnfA4g=s64",
      "userId": "00759138915282597494"
     },
     "user_tz": 300
    },
    "id": "F-uK8r3Qv8pJ",
    "outputId": "2b750d0a-e150-4ab9-c6e3-0f3498becde3"
   },
   "outputs": [],
   "source": [
    "#Usamos un loop en el que, mientras el seno de theta sea mayor o igual al 97% del valor de theta,\n",
    "#(pues, como son valores positivos, no serán mayores a theta) se añade ese ángulo a los ángulos que\n",
    "#consideramos \"pequeños\" y avanzamos 0.01 radianes, no nos es necesario tener una precisión mayor.\n",
    "while np.sin(theta) >= porc(theta):\n",
    "    theta_peq.append(theta)\n",
    "    theta = theta+0.01\n",
    "\n",
    "#Guardamos la variable para utilizarla luego\n",
    "%store theta_peq"
   ]
  },
  {
   "cell_type": "code",
   "execution_count": null,
   "metadata": {
    "colab": {
     "base_uri": "https://localhost:8080/",
     "height": 619
    },
    "executionInfo": {
     "elapsed": 918,
     "status": "ok",
     "timestamp": 1631910728354,
     "user": {
      "displayName": "Nicolas Mantilla",
      "photoUrl": "https://lh3.googleusercontent.com/a-/AOh14GhsDn_d1WTXp81dbeWylRsq7K1Beh5ccj33jnfA4g=s64",
      "userId": "00759138915282597494"
     },
     "user_tz": 300
    },
    "id": "F-uK8r3Qv8pJ",
    "outputId": "2b750d0a-e150-4ab9-c6e3-0f3498becde3"
   },
   "outputs": [],
   "source": [
    "#Imprimimos el rango en el que se encuentran los valores\n",
    "print(\"Los valores de los ángulos (en radianes) utiles para esta aproximación son: desde\",\n",
    "      np.min(theta_peq), \"hasta\", round(np.max(theta_peq), ndigits=3))"
   ]
  },
  {
   "cell_type": "code",
   "execution_count": null,
   "metadata": {
    "colab": {
     "base_uri": "https://localhost:8080/",
     "height": 619
    },
    "executionInfo": {
     "elapsed": 918,
     "status": "ok",
     "timestamp": 1631910728354,
     "user": {
      "displayName": "Nicolas Mantilla",
      "photoUrl": "https://lh3.googleusercontent.com/a-/AOh14GhsDn_d1WTXp81dbeWylRsq7K1Beh5ccj33jnfA4g=s64",
      "userId": "00759138915282597494"
     },
     "user_tz": 300
    },
    "id": "F-uK8r3Qv8pJ",
    "outputId": "2b750d0a-e150-4ab9-c6e3-0f3498becde3"
   },
   "outputs": [],
   "source": [
    "#Verificamos gráficamente la linialidad de dichos ángulos con su seno.\n",
    "plt.plot(theta_peq, np.sin(theta_peq), \"k-\")\n",
    "plt.grid()\n",
    "plt.title(r'Ángulos $\\theta$ \"pequeños\"', size=14)\n",
    "plt.xlabel(r\"Ángulo $\\theta$ (rad)\", size=13)\n",
    "plt.ylabel(r\"$Sen(\\theta)$\", size=13)\n",
    "plt.show()"
   ]
  },
  {
   "cell_type": "code",
   "execution_count": null,
   "metadata": {
    "colab": {
     "base_uri": "https://localhost:8080/",
     "height": 619
    },
    "executionInfo": {
     "elapsed": 918,
     "status": "ok",
     "timestamp": 1631910728354,
     "user": {
      "displayName": "Nicolas Mantilla",
      "photoUrl": "https://lh3.googleusercontent.com/a-/AOh14GhsDn_d1WTXp81dbeWylRsq7K1Beh5ccj33jnfA4g=s64",
      "userId": "00759138915282597494"
     },
     "user_tz": 300
    },
    "id": "F-uK8r3Qv8pJ",
    "outputId": "2b750d0a-e150-4ab9-c6e3-0f3498becde3"
   },
   "outputs": [],
   "source": [
    "#Ahora en grados.\n",
    "plt.figure()\n",
    "plt.plot(np.degrees(theta_peq), np.sin(theta_peq), \"k-\")\n",
    "plt.grid()\n",
    "plt.title(r'Ángulos $\\theta$ \"pequeños\"', size=14)\n",
    "plt.xlabel(r\"Ángulo $\\theta$ (°)\", size=13)\n",
    "plt.ylabel(r\"$Sen(\\theta)$\", size=13)\n",
    "plt.show()"
   ]
  }
 ],
 "metadata": {
  "colab": {
   "authorship_tag": "ABX9TyMKn2NdNJkLGo8A70VjjZ9O",
   "name": "Ángulos \"pequeños\".ipynb",
   "provenance": []
  },
  "kernelspec": {
   "display_name": "Python 3 (ipykernel)",
   "language": "python",
   "name": "python3"
  },
  "language_info": {
   "codemirror_mode": {
    "name": "ipython",
    "version": 3
   },
   "file_extension": ".py",
   "mimetype": "text/x-python",
   "name": "python",
   "nbconvert_exporter": "python",
   "pygments_lexer": "ipython3",
   "version": "3.8.11"
  },
  "toc-autonumbering": false
 },
 "nbformat": 4,
 "nbformat_minor": 4
}
